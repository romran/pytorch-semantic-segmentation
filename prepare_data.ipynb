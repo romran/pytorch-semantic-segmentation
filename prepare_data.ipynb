{
 "cells": [
  {
   "cell_type": "code",
   "execution_count": 2,
   "metadata": {},
   "outputs": [],
   "source": [
    "from PIL import Image\n",
    "import os\n",
    "\n",
    "#Convert images to .jpg if dataset comes in another format\n",
    "\n",
    "def convert_imgs(path, save_path):\n",
    "    for infile in os.listdir(path):\n",
    "        if infile[-3:] == \"tif\" or infile[-3:] == \"gif\" :\n",
    "            # print \"is tif or bmp\"\n",
    "            outfile = infile[:-3]# + \"jpeg\"\n",
    "            img = Image.open(path+infile)\n",
    "            area = (0, 19, 565, 584)\n",
    "            cropped_img = img.crop(area)\n",
    "            #print (\"new filename : \",outfile)\n",
    "            out = cropped_img.convert(\"RGB\").save(save_path+outfile+'jpg')\n",
    "\n",
    "convert_imgs('./sample_data/train/', './sample_data/train_jpg/')\n",
    "convert_imgs('./sample_data/val/', './sample_data/val_jpg/')"
   ]
  },
  {
   "cell_type": "code",
   "execution_count": 3,
   "metadata": {},
   "outputs": [],
   "source": [
    "#get image pairs for merge\n",
    "\n",
    "def get_pairs(path):\n",
    "    imgs_list = os.listdir(path)\n",
    "    imgs_pair = []\n",
    "    imgs_pairs_list = []\n",
    "    for img in imgs_list:\n",
    "        imgs_pair.append(path + img)\n",
    "        if len(imgs_pair) == 2:\n",
    "            imgs_pairs_list.append(imgs_pair)\n",
    "            imgs_pair = []\n",
    "\n",
    "    return imgs_pairs_list\n",
    "       "
   ]
  },
  {
   "cell_type": "code",
   "execution_count": 4,
   "metadata": {},
   "outputs": [],
   "source": [
    "import numpy as np\n",
    "from PIL import Image\n",
    "\n",
    "def merge_imgs(pairs_arr, save_path):\n",
    "    counter = 1\n",
    "    \n",
    "    for pair in pairs_arr:        \n",
    "        images_list = pair\n",
    "        imgs = [ Image.open(i) for i in images_list ]\n",
    "\n",
    "        min_img_shape = sorted( [(np.sum(i.size), i.size ) for i in imgs])[0][1]\n",
    "        img_merge = np.hstack( (np.asarray( i.resize(min_img_shape,Image.ANTIALIAS) ) for i in imgs ) )\n",
    "\n",
    "        img_merge = Image.fromarray( img_merge)\n",
    "\n",
    "        img_merge.save(save_path+'image_'+str(counter)+'.jpg' )\n",
    "\n",
    "        counter += 1\n",
    "\n",
    "merge_imgs(get_pairs('./sample_data/train_jpg/'), './data/train/')\n",
    "merge_imgs(get_pairs('./sample_data/val_jpg/'), './data/val/')\n"
   ]
  },
  {
   "cell_type": "code",
   "execution_count": null,
   "metadata": {},
   "outputs": [],
   "source": []
  }
 ],
 "metadata": {
  "kernelspec": {
   "display_name": "Python 3",
   "language": "python",
   "name": "python3"
  },
  "language_info": {
   "codemirror_mode": {
    "name": "ipython",
    "version": 3
   },
   "file_extension": ".py",
   "mimetype": "text/x-python",
   "name": "python",
   "nbconvert_exporter": "python",
   "pygments_lexer": "ipython3",
   "version": "3.7.0"
  }
 },
 "nbformat": 4,
 "nbformat_minor": 2
}
