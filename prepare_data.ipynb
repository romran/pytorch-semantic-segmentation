{
 "cells": [
  {
   "cell_type": "code",
   "execution_count": 1,
   "metadata": {},
   "outputs": [
    {
     "data": {
      "text/plain": [
       "'DONE'"
      ]
     },
     "execution_count": 1,
     "metadata": {},
     "output_type": "execute_result"
    }
   ],
   "source": [
    "from PIL import Image\n",
    "import os\n",
    "# img = Image.open('./DRIVE/training/images/21_training.tif')\n",
    "# img.show()\n",
    "\n",
    "\n",
    "\"./DRIVE/training/images/\"\n",
    "\n",
    "def convert_imgs(path, save_path):\n",
    "    for infile in os.listdir(path):\n",
    "        if infile[-3:] == \"tif\" or infile[-3:] == \"gif\" :\n",
    "            # print \"is tif or bmp\"\n",
    "            outfile = infile[:-3]# + \"jpeg\"\n",
    "            img = Image.open(path+infile)\n",
    "            area = (0, 19, 565, 584)\n",
    "            cropped_img = img.crop(area)\n",
    "            #print (\"new filename : \",outfile)\n",
    "            out = cropped_img.convert(\"RGB\").save(save_path+outfile+'jpg')\n",
    "    return 'DONE'\n",
    "\n",
    "convert_imgs('./DRIVE/training/images/', './DRIVE/training/images_jpg/')\n",
    "convert_imgs('./DRIVE/test/images/', './DRIVE/test/images_jpg/')"
   ]
  },
  {
   "cell_type": "code",
   "execution_count": 2,
   "metadata": {},
   "outputs": [
    {
     "name": "stdout",
     "output_type": "stream",
     "text": [
      "[['./DRIVE/test/images_jpg/01_test.jpg', './DRIVE/test/masks_jpg/01_manual1.jpg'], ['./DRIVE/test/images_jpg/02_test.jpg', './DRIVE/test/masks_jpg/02_manual1.jpg'], ['./DRIVE/test/images_jpg/03_test.jpg', './DRIVE/test/masks_jpg/03_manual1.jpg'], ['./DRIVE/test/images_jpg/04_test.jpg', './DRIVE/test/masks_jpg/04_manual1.jpg'], ['./DRIVE/test/images_jpg/05_test.jpg', './DRIVE/test/masks_jpg/05_manual1.jpg'], ['./DRIVE/test/images_jpg/06_test.jpg', './DRIVE/test/masks_jpg/06_manual1.jpg'], ['./DRIVE/test/images_jpg/07_test.jpg', './DRIVE/test/masks_jpg/07_manual1.jpg'], ['./DRIVE/test/images_jpg/08_test.jpg', './DRIVE/test/masks_jpg/08_manual1.jpg'], ['./DRIVE/test/images_jpg/09_test.jpg', './DRIVE/test/masks_jpg/09_manual1.jpg'], ['./DRIVE/test/images_jpg/10_test.jpg', './DRIVE/test/masks_jpg/10_manual1.jpg'], ['./DRIVE/test/images_jpg/11_test.jpg', './DRIVE/test/masks_jpg/11_manual1.jpg'], ['./DRIVE/test/images_jpg/12_test.jpg', './DRIVE/test/masks_jpg/12_manual1.jpg'], ['./DRIVE/test/images_jpg/13_test.jpg', './DRIVE/test/masks_jpg/13_manual1.jpg'], ['./DRIVE/test/images_jpg/14_test.jpg', './DRIVE/test/masks_jpg/14_manual1.jpg'], ['./DRIVE/test/images_jpg/15_test.jpg', './DRIVE/test/masks_jpg/15_manual1.jpg'], ['./DRIVE/test/images_jpg/16_test.jpg', './DRIVE/test/masks_jpg/16_manual1.jpg'], ['./DRIVE/test/images_jpg/17_test.jpg', './DRIVE/test/masks_jpg/17_manual1.jpg'], ['./DRIVE/test/images_jpg/18_test.jpg', './DRIVE/test/masks_jpg/18_manual1.jpg'], ['./DRIVE/test/images_jpg/19_test.jpg', './DRIVE/test/masks_jpg/19_manual1.jpg'], ['./DRIVE/test/images_jpg/20_test.jpg', './DRIVE/test/masks_jpg/20_manual1.jpg']]\n"
     ]
    }
   ],
   "source": [
    "\n",
    "\n",
    "def convert_masks(path, save_path, condition):\n",
    "    img_pairs = []\n",
    "    for infile in os.listdir(path):\n",
    "        if infile[-3:] == \"gif\" or infile[-3:] == \"bmp\" :\n",
    "            # print \"is tif or bmp\"\n",
    "            outfile = infile[:-3]# + \"jpeg\"\n",
    "            img = Image.open(path + infile)\n",
    "            area = (0, 19, 565, 584)\n",
    "            cropped_img = img.crop(area)\n",
    "            #print (\"new filename : \",outfile)\n",
    "            out = cropped_img.convert(\"RGB\").save(save_path+outfile+'jpg')\n",
    "            if condition == 'train':\n",
    "                img_pairs.append([save_path.replace('masks','images')+outfile.replace('manual1','training')+'jpg',save_path + outfile+'jpg'])\n",
    "            else:\n",
    "                img_pairs.append([save_path.replace('masks','images')+outfile.replace('manual1','test')+'jpg',save_path + outfile+'jpg'])\n",
    "               \n",
    "    return(img_pairs)\n",
    "\n",
    "train_pairs = convert_masks('./DRIVE/training/1st_manual/', './DRIVE/training/masks_jpg/', 'train')\n",
    "test_pairs = convert_masks('./DRIVE/test/1st_manual/', './DRIVE/test/masks_jpg/', 'test')\n",
    "\n",
    "#test_pairs = test_pairs[:len(test_pairs)//2]\n",
    " \n",
    "print(test_pairs)    "
   ]
  },
  {
   "cell_type": "code",
   "execution_count": 3,
   "metadata": {},
   "outputs": [
    {
     "ename": "FileNotFoundError",
     "evalue": "[Errno 2] No such file or directory: './DRIVE/train_data/train_image1.jpg'",
     "output_type": "error",
     "traceback": [
      "\u001b[1;31m---------------------------------------------------------------------------\u001b[0m",
      "\u001b[1;31mFileNotFoundError\u001b[0m                         Traceback (most recent call last)",
      "\u001b[1;32m<ipython-input-3-feba914c443e>\u001b[0m in \u001b[0;36m<module>\u001b[1;34m()\u001b[0m\n\u001b[0;32m     20\u001b[0m         \u001b[0mcounter\u001b[0m \u001b[1;33m+=\u001b[0m \u001b[1;36m1\u001b[0m\u001b[1;33m\u001b[0m\u001b[0m\n\u001b[0;32m     21\u001b[0m \u001b[1;33m\u001b[0m\u001b[0m\n\u001b[1;32m---> 22\u001b[1;33m \u001b[0mmerge_imgs\u001b[0m\u001b[1;33m(\u001b[0m\u001b[0mtrain_pairs\u001b[0m\u001b[1;33m,\u001b[0m \u001b[1;34m'./DRIVE/train_data/train_image'\u001b[0m\u001b[1;33m)\u001b[0m\u001b[1;33m\u001b[0m\u001b[0m\n\u001b[0m\u001b[0;32m     23\u001b[0m \u001b[0mmerge_imgs\u001b[0m\u001b[1;33m(\u001b[0m\u001b[0mtest_pairs\u001b[0m\u001b[1;33m,\u001b[0m \u001b[1;34m'./DRIVE/test_data/test_image'\u001b[0m\u001b[1;33m)\u001b[0m\u001b[1;33m\u001b[0m\u001b[0m\n",
      "\u001b[1;32m<ipython-input-3-feba914c443e>\u001b[0m in \u001b[0;36mmerge_imgs\u001b[1;34m(pairs_arr, save_path)\u001b[0m\n\u001b[0;32m     16\u001b[0m         \u001b[0mimg_merge\u001b[0m \u001b[1;33m=\u001b[0m \u001b[0mImage\u001b[0m\u001b[1;33m.\u001b[0m\u001b[0mfromarray\u001b[0m\u001b[1;33m(\u001b[0m \u001b[0mimg_merge\u001b[0m\u001b[1;33m)\u001b[0m\u001b[1;33m\u001b[0m\u001b[0m\n\u001b[0;32m     17\u001b[0m \u001b[1;33m\u001b[0m\u001b[0m\n\u001b[1;32m---> 18\u001b[1;33m         \u001b[0mimg_merge\u001b[0m\u001b[1;33m.\u001b[0m\u001b[0msave\u001b[0m\u001b[1;33m(\u001b[0m\u001b[0msave_path\u001b[0m\u001b[1;33m+\u001b[0m\u001b[0mstr\u001b[0m\u001b[1;33m(\u001b[0m\u001b[0mcounter\u001b[0m\u001b[1;33m)\u001b[0m\u001b[1;33m+\u001b[0m\u001b[1;34m'.jpg'\u001b[0m \u001b[1;33m)\u001b[0m\u001b[1;33m\u001b[0m\u001b[0m\n\u001b[0m\u001b[0;32m     19\u001b[0m \u001b[1;33m\u001b[0m\u001b[0m\n\u001b[0;32m     20\u001b[0m         \u001b[0mcounter\u001b[0m \u001b[1;33m+=\u001b[0m \u001b[1;36m1\u001b[0m\u001b[1;33m\u001b[0m\u001b[0m\n",
      "\u001b[1;32mC:\\ProgramData\\Anaconda3\\lib\\site-packages\\PIL\\Image.py\u001b[0m in \u001b[0;36msave\u001b[1;34m(self, fp, format, **params)\u001b[0m\n\u001b[0;32m   1945\u001b[0m                 \u001b[1;31m# Open also for reading (\"+\"), because TIFF save_all\u001b[0m\u001b[1;33m\u001b[0m\u001b[1;33m\u001b[0m\u001b[0m\n\u001b[0;32m   1946\u001b[0m                 \u001b[1;31m# writer needs to go back and edit the written data.\u001b[0m\u001b[1;33m\u001b[0m\u001b[1;33m\u001b[0m\u001b[0m\n\u001b[1;32m-> 1947\u001b[1;33m                 \u001b[0mfp\u001b[0m \u001b[1;33m=\u001b[0m \u001b[0mbuiltins\u001b[0m\u001b[1;33m.\u001b[0m\u001b[0mopen\u001b[0m\u001b[1;33m(\u001b[0m\u001b[0mfilename\u001b[0m\u001b[1;33m,\u001b[0m \u001b[1;34m\"w+b\"\u001b[0m\u001b[1;33m)\u001b[0m\u001b[1;33m\u001b[0m\u001b[0m\n\u001b[0m\u001b[0;32m   1948\u001b[0m \u001b[1;33m\u001b[0m\u001b[0m\n\u001b[0;32m   1949\u001b[0m         \u001b[1;32mtry\u001b[0m\u001b[1;33m:\u001b[0m\u001b[1;33m\u001b[0m\u001b[0m\n",
      "\u001b[1;31mFileNotFoundError\u001b[0m: [Errno 2] No such file or directory: './DRIVE/train_data/train_image1.jpg'"
     ]
    }
   ],
   "source": [
    "import numpy as np\n",
    "from PIL import Image\n",
    "\n",
    "def merge_imgs(pairs_arr, save_path):\n",
    "    counter = 1\n",
    "    \n",
    "    for pair in pairs_arr:\n",
    "\n",
    "        #images_list = ['./DRIVE/training/masks_jpeg/21_manual1.jpg', './DRIVE/training/images_jpeg/21_training.jpg']\n",
    "        images_list = pair\n",
    "        imgs = [ Image.open(i) for i in images_list ]\n",
    "\n",
    "        min_img_shape = sorted( [(np.sum(i.size), i.size ) for i in imgs])[0][1]\n",
    "        img_merge = np.hstack( (np.asarray( i.resize(min_img_shape,Image.ANTIALIAS) ) for i in imgs ) )\n",
    "\n",
    "        img_merge = Image.fromarray( img_merge)\n",
    "\n",
    "        img_merge.save(save_path+str(counter)+'.jpg' )\n",
    "\n",
    "        counter += 1\n",
    "\n",
    "merge_imgs(train_pairs, './DRIVE/train_data/train_image')\n",
    "merge_imgs(test_pairs, './DRIVE/test_data/test_image')\n"
   ]
  },
  {
   "cell_type": "code",
   "execution_count": null,
   "metadata": {},
   "outputs": [],
   "source": []
  }
 ],
 "metadata": {
  "kernelspec": {
   "display_name": "Python 3",
   "language": "python",
   "name": "python3"
  },
  "language_info": {
   "codemirror_mode": {
    "name": "ipython",
    "version": 3
   },
   "file_extension": ".py",
   "mimetype": "text/x-python",
   "name": "python",
   "nbconvert_exporter": "python",
   "pygments_lexer": "ipython3",
   "version": "3.7.0"
  }
 },
 "nbformat": 4,
 "nbformat_minor": 2
}
